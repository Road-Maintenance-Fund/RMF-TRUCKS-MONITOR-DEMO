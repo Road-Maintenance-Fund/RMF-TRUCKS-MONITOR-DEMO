{
 "cells": [
  {
   "cell_type": "markdown",
   "metadata": {
    "id": "view-in-github"
   },
   "source": [
    "# YOLOv8 Resume Training on Google Colab\n",
    "This notebook helps you resume training your YOLOv8 model from the last checkpoint on Google Colab."
   ]
  },
  {
   "cell_type": "code",
   "execution_count": null,
   "metadata": {
    "id": "VjYy0F2gZJkc"
   },
   "outputs": [],
   "source": [
    "# Install required packages\n",
    "!pip install ultralytics\n",
    "!pip install roboflow"
   ]
  },
  {
   "cell_type": "code",
   "execution_count": null,
   "metadata": {
    "id": "8np4ZKLIahH_"
   },
   "outputs": [],
   "source": [
    "# Mount Google Drive\n",
    "from google.colab import drive\n",
    "drive.mount('/content/drive')"
   ]
  },
  {
   "cell_type": "code",
   "execution_count": null,
   "metadata": {
    "id": "1XjQzDxTZJkf"
   },
   "outputs": [],
   "source": [
    "# Create necessary directories\n",
    "!mkdir -p /content/plates_model/weights\n",
    "!mkdir -p /content/data"
   ]
  },
  {
   "cell_type": "code",
   "execution_count": null,
   "metadata": {
    "id": "N1kH5WUyZJkg"
   },
   "outputs": [],
   "source": [
    "# Upload your model files (run this cell and upload your files through the file browser)\n",
    "from google.colab import files\n",
    "print(\"Please upload your model files (last.pt, best.pt, and data.yaml)\")\n",
    "uploaded = files.upload()"
   ]
  },
  {
   "cell_type": "code",
   "execution_count": null,
   "metadata": {
    "id": "5Xe1wO5XZJkh"
   },
   "outputs": [],
   "source": [
    "# Move files to appropriate directories\n",
    "!mv last.pt /content/plates_model/weights/\n",
    "!mv best.pt /content/plates_model/weights/\n",
    "!mv data.yaml /content/data/"
   ]
  },
  {
   "cell_type": "code",
   "execution_count": null,
   "metadata": {
    "id": "9Dn5QJ3cZJki"
   },
   "outputs": [],
   "source": [
    "# Download and setup the resume training script\n",
    "!wget https://raw.githubusercontent.com/your_username/PLRM/main/resume_training.py -O resume_training.py"
   ]
  },
  {
   "cell_type": "code",
   "execution_count": null,
   "metadata": {
    "id": "3q3q3q3q3q3q"
   },
   "outputs": [],
   "source": [
    "# Start training (modify parameters as needed)\n",
    "!python resume_training.py \\\n",
    "  --weights /content/plates_model/weights/last.pt \\\n",
    "  --data /content/data/data.yaml \\\n",
    "  --epochs 100 \\\n",
    "  --batch 16 \\\n",
    "  --imgsz 640 \\\n",
    "  --device 0"
   ]
  },
  {
   "cell_type": "code",
   "execution_count": null,
   "metadata": {
    "id": "save-to-drive"
   },
   "outputs": [],
   "source": [
    "# Save trained model to Google Drive\n",
    "!cp -r /content/plates_model/runs /content/drive/MyDrive/plates_model_$(date +%Y%m%d_%H%M%S)"
   ]
  }
 ],
 "metadata": {
  "accelerator": "GPU",
  "colab": {
   "gpuType": "T4",
   "provenance": []
  },
  "kernelspec": {
   "display_name": "Python 3",
   "name": "python3"
  },
  "language_info": {
   "name": "python"
  }
 },
 "nbformat": 4,
 "nbformat_minor": 0
}
