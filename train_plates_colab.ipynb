{
 "cells": [
  {
   "cell_type": "markdown",
   "metadata": {
    "id": "Nw7C3v4pGZ3O"
   },
   "source": [
    "# 🚛 Truck and License Plate Detection Training\n",
    "\n",
    "This notebook provides a complete pipeline for training a YOLOv8 model to detect trucks and license plates with high accuracy and speed."
   ]
  },
  {
   "cell_type": "markdown",
   "metadata": {
    "id": "gxNQYq5SGZ3S"
   },
   "source": [
    "## 🚀 Setup Environment"
   ]
  },
  {
   "cell_type": "code",
   "execution_count": null,
   "metadata": {
    "id": "2G8s2n6QGZ3T"
   },
   "outputs": [],
   "source": [
    "# Check GPU\n",
    "!nvidia-smi\n",
    "\n",
    "# Install dependencies\n",
    "!pip install -q ultralytics\n",
    "!pip install -q roboflow\n",
    "!pip install -q easyocr\n",
    "!pip install -q onnx onnxruntime"
   ]
  },
  {
   "cell_type": "markdown",
   "metadata": {
    "id": "3i0dT9J9GZ3U"
   },
   "source": [
    "## 📥 Clone Repository"
   ]
  },
  {
   "cell_type": "code",
   "execution_count": null,
   "metadata": {
    "id": "K5l1GXrXGZ3V"
   },
   "outputs": [],
   "source": [
    "# Clone your repository\n",
    "!git clone https://github.com/Road-Maintenance-Fund/RMF-TRUCKS-MONITOR-DEMO.git\n",
    "%cd RMF-TRUCKS-MONITOR-DEMO\n",
    "!ls -la"
   ]
  },
  {
   "cell_type": "markdown",
   "metadata": {
    "id": "Tk1vx9GdGZ3W"
   },
   "source": [
    "## 🏋️ Train Model"
   ]
  },
  {
   "cell_type": "code",
   "execution_count": null,
   "metadata": {
    "id": "5KXQwN5pGZ3W"
   },
   "outputs": [],
   "source": [
    "from ultralytics import YOLO\n",
    "import torch\n",
    "\n",
    "# Check GPU\n",
    "device = 'cuda' if torch.cuda.is_available() else 'cpu'\n",
    "print(f'Using device: {device}')\n",
    "\n",
    "# Load model\n",
    "model = YOLO('yolov8n.pt')\n",
    "\n",
    "# Train\n",
    "results = model.train(\n",
    "    data='dataset/data.yaml',\n",
    "    epochs=100,\n",
    "    imgsz=640,\n",
    "    batch=16,\n",
    "    device=0 if device == 'cuda' else 'cpu',\n",
    "    workers=4,\n",
    "    optimizer='auto',\n",
    "    lr0=0.01,\n",
    "    lrf=0.01,\n",
    "    momentum=0.937,\n",
    "    weight_decay=0.0005,\n",
    "    warmup_epochs=3.0,\n",
    "    warmup_momentum=0.8,\n",
    "    warmup_bias_lr=0.1,\n",
    "    hsv_h=0.015,\n",
    "    hsv_s=0.7,\n",
    "    hsv_v=0.4,\n",
    "    translate=0.1,\n",
    "    scale=0.5,\n",
    "    fliplr=0.5,\n",
    "    mosaic=1.0,\n",
    "    name='truck_plate_detection'\n",
    ")"
   ]
  },
  {
   "cell_type": "markdown",
   "metadata": {
    "id": "Tg0q7X4fGZ3X"
   },
   "source": [
    "## 💾 Save to Google Drive"
   ]
  },
  {
   "cell_type": "code",
   "execution_count": null,
   "metadata": {
    "id": "8g1xQ6aGGZ3Y"
   },
   "outputs": [],
   "source": [
    "from google.colab import drive\n",
    "import os\n",
    "from datetime import datetime\n",
    "\n",
    "# Mount Google Drive\n",
    "drive.mount('/content/drive')\n",
    "\n",
    "# Create save directory\n",
    "save_dir = '/content/drive/MyDrive/plates_model'\n",
    "os.makedirs(save_dir, exist_ok=True)\n",
    "\n",
    "# Export to ONNX\n",
    "model.export(format='onnx', dynamic=True)\n",
    "\n",
    "# Copy files\n",
    "!cp -r runs/ $save_dir/\n",
    "!cp *.onnx $save_dir/\n",
    "\n",
    "print(f'\\nModel saved to: {save_dir}')\n",
    "!ls -la $save_dir"
   ]
  },
  {
   "cell_type": "markdown",
   "metadata": {
    "id": "_1Mv5Xh1Xz94"
   },
   "source": [
    "## 🚀 Test Model"
   ]
  },
  {
   "cell_type": "code",
   "execution_count": null,
   "metadata": {
    "id": "_9pYzP4nXz95"
   },
   "outputs": [],
   "source": [
    "import cv2\n",
    "import numpy as np\n",
    "from google.colab.patches import cv2_imshow\n",
    "\n",
    "def test_image(model, image_path):\n",
    "    # Load image\n",
    "    img = cv2.imread(image_path)\n",
    "    if img is None:\n",
    "        print(f\"Could not read image: {image_path}\")\n",
    "        return\n",
    "    \n",
    "    # Run inference\n",
    "    results = model(img)\n",
    "    \n",
    "    # Show results\n",
    "    for r in results:\n",
    "        im_array = r.plot()\n",
    "        # Convert BGR to RGB for display\n",
    "        im_array = cv2.cvtColor(im_array, cv2.COLOR_BGR2RGB)\n",
    "        \n",
    "        # Display\n",
    "        cv2_imshow(im_array)\n",
    "        \n",
    "        # Print detections\n",
    "        for box in r.boxes:\n",
    "            print(f\"Detected {r.names[box.cls[0].item()]} with confidence {box.conf[0].item():.2f}\")\n",
    "\n",
    "# Test on a sample image\n",
    "test_image_path = 'path/to/your/test/image.jpg'  # Update this path\n",
    "test_image(model, test_image_path)"
   ]
  }
 ],
 "metadata": {
  "accelerator": "GPU",
  "colab": {
   "provenance": []
  },
  "kernelspec": {
   "display_name": "Python 3",
   "name": "python3"
  },
  "language_info": {
   "name": "python"
  }
 },
 "nbformat": 4,
 "nbformat_minor": 0
}
